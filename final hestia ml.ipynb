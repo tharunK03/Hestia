{
 "cells": [
  {
   "cell_type": "code",
   "execution_count": 2,
   "metadata": {},
   "outputs": [
    {
     "name": "stdout",
     "output_type": "stream",
     "text": [
      "✅ All models and encoders saved to: /Users/Hestia 2/RealEstate/untitled folder\n"
     ]
    }
   ],
   "source": [
    "import pandas as pd\n",
    "import numpy as np\n",
    "import joblib\n",
    "import os\n",
    "from sklearn.preprocessing import LabelEncoder, StandardScaler\n",
    "from sklearn.ensemble import RandomForestClassifier, IsolationForest\n",
    "from sklearn.model_selection import train_test_split\n",
    "\n",
    "# ✅ Load dataset\n",
    "dataset_path = '/Users/tharun/Desktop/hestia dataset.csv'  # Change if your CSV path is different\n",
    "df = pd.read_csv(dataset_path)\n",
    "\n",
    "# ✅ Encode categorical columns\n",
    "location_encoder = LabelEncoder()\n",
    "property_type_encoder = LabelEncoder()\n",
    "\n",
    "df['location'] = location_encoder.fit_transform(df['location'])\n",
    "df['property_type'] = property_type_encoder.fit_transform(df['property_type'])\n",
    "\n",
    "# ✅ Generate min/max price range (±20%)\n",
    "df['price_min'] = df['price'] * 0.8\n",
    "df['price_max'] = df['price'] * 1.2\n",
    "\n",
    "# ✅ Create binary target: 1 = anomaly, 0 = normal\n",
    "df['target'] = ((df['price'] < df['price_min']) | (df['price'] > df['price_max'])).astype(int)\n",
    "\n",
    "# ✅ Feature columns\n",
    "features = ['location', 'area_size', 'property_type', 'price_min', 'price_max']\n",
    "X = df[features]\n",
    "y = df['target']\n",
    "\n",
    "# ✅ Normalize features\n",
    "scaler = StandardScaler()\n",
    "X_scaled = scaler.fit_transform(X)\n",
    "\n",
    "# ✅ Train-test split\n",
    "X_train, X_test, y_train, y_test = train_test_split(X_scaled, y, test_size=0.2, random_state=42)\n",
    "\n",
    "# ✅ Train models\n",
    "rf_model = RandomForestClassifier(n_estimators=100, random_state=42)\n",
    "rf_model.fit(X_train, y_train)\n",
    "\n",
    "iso_forest = IsolationForest(n_estimators=100, contamination=0.1, random_state=42)\n",
    "iso_forest.fit(X_train)\n",
    "\n",
    "# ✅ Save models and encoders\n",
    "save_path = '/Users/Hestia 2/RealEstate/untitled folder'\n",
    "os.makedirs(save_path, exist_ok=True)\n",
    "\n",
    "joblib.dump(rf_model, os.path.join(save_path, 'random_forest_model.pkl'))\n",
    "joblib.dump(iso_forest, os.path.join(save_path, 'isolation_forest_model.pkl'))\n",
    "joblib.dump(scaler, os.path.join(save_path, 'scaler.pkl'))\n",
    "joblib.dump(location_encoder, os.path.join(save_path, 'location_encoder.pkl'))\n",
    "joblib.dump(property_type_encoder, os.path.join(save_path, 'property_type_encoder.pkl'))\n",
    "\n",
    "print(\"✅ All models and encoders saved to:\", save_path)"
   ]
  }
 ],
 "metadata": {
  "kernelspec": {
   "display_name": "Python 3",
   "language": "python",
   "name": "python3"
  },
  "language_info": {
   "codemirror_mode": {
    "name": "ipython",
    "version": 3
   },
   "file_extension": ".py",
   "mimetype": "text/x-python",
   "name": "python",
   "nbconvert_exporter": "python",
   "pygments_lexer": "ipython3",
   "version": "3.12.4"
  }
 },
 "nbformat": 4,
 "nbformat_minor": 2
}
